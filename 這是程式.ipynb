{
  "nbformat": 4,
  "nbformat_minor": 0,
  "metadata": {
    "colab": {
      "name": "Untitled0.ipynb",
      "provenance": []
    },
    "kernelspec": {
      "name": "python3",
      "display_name": "Python 3"
    }
  },
  "cells": [
    {
      "cell_type": "code",
      "metadata": {
        "id": "s0zWIPlWlpHH",
        "colab_type": "code",
        "colab": {}
      },
      "source": [
        "# 事前準備\n",
        "import math\n",
        "def C(n, k):\n",
        "  return math.factorial(n) / ( math.factorial(k) * math.factorial(n - k) )\n",
        "def binom(x, n, p):\n",
        "  return C(n, x) * (p ** x) * ( (1-p) ** (n-x) )\n",
        "def poisson(x, r, t):\n",
        "  return (math.exp(-r * t) * ((r*t)**x)) / (math.factorial(x))"
      ],
      "execution_count": 0,
      "outputs": []
    },
    {
      "cell_type": "markdown",
      "metadata": {
        "id": "Rdxpwrn-e2U5",
        "colab_type": "text"
      },
      "source": [
        "第一題"
      ]
    },
    {
      "cell_type": "code",
      "metadata": {
        "id": "3zi9d71vlAyE",
        "colab_type": "code",
        "colab": {
          "base_uri": "https://localhost:8080/",
          "height": 206
        },
        "outputId": "6d38c758-f4a6-4d58-d301-d70254856ff3"
      },
      "source": [
        "# (1)\n",
        "for i in range(11):\n",
        "  print(\"fx(\" + str(i) + \") = \" + str(binom(i, 10, 0.1)) )"
      ],
      "execution_count": 46,
      "outputs": [
        {
          "output_type": "stream",
          "text": [
            "fx(0) = 0.3486784401000001\n",
            "fx(1) = 0.3874204890000001\n",
            "fx(2) = 0.19371024450000007\n",
            "fx(3) = 0.05739562800000002\n",
            "fx(4) = 0.011160261000000003\n",
            "fx(5) = 0.0014880348000000005\n",
            "fx(6) = 0.00013778100000000007\n",
            "fx(7) = 8.748000000000003e-06\n",
            "fx(8) = 3.6450000000000023e-07\n",
            "fx(9) = 9.000000000000004e-09\n",
            "fx(10) = 1.0000000000000006e-10\n"
          ],
          "name": "stdout"
        }
      ]
    },
    {
      "cell_type": "code",
      "metadata": {
        "id": "o3PUiExAfI9t",
        "colab_type": "code",
        "colab": {
          "base_uri": "https://localhost:8080/",
          "height": 34
        },
        "outputId": "63b5d40a-1e74-42e8-d150-88d3ac03ad94"
      },
      "source": [
        "# (2)\n",
        "n = 10\n",
        "p = .1\n",
        "n*p"
      ],
      "execution_count": 47,
      "outputs": [
        {
          "output_type": "execute_result",
          "data": {
            "text/plain": [
              "1.0"
            ]
          },
          "metadata": {
            "tags": []
          },
          "execution_count": 47
        }
      ]
    },
    {
      "cell_type": "code",
      "metadata": {
        "id": "W4YoRsPrfo44",
        "colab_type": "code",
        "colab": {
          "base_uri": "https://localhost:8080/",
          "height": 34
        },
        "outputId": "ac150e74-47f6-45a4-9580-24a1e981199e"
      },
      "source": [
        "# (3)\n",
        "q = 1 - p\n",
        "n*p*q"
      ],
      "execution_count": 48,
      "outputs": [
        {
          "output_type": "execute_result",
          "data": {
            "text/plain": [
              "0.9"
            ]
          },
          "metadata": {
            "tags": []
          },
          "execution_count": 48
        }
      ]
    },
    {
      "cell_type": "code",
      "metadata": {
        "id": "bHPDGB1VoHVD",
        "colab_type": "code",
        "colab": {
          "base_uri": "https://localhost:8080/",
          "height": 206
        },
        "outputId": "20e67b05-9a20-4ebb-83cc-807cd4ed1f8b"
      },
      "source": [
        "# (4)\n",
        "for i in range(11):\n",
        "  print(\"fy(\" + str(i) + \") = \" + str(C(10, i) * C(100 - 10, 10 - i) / C(100, 10)))"
      ],
      "execution_count": 49,
      "outputs": [
        {
          "output_type": "stream",
          "text": [
            "fy(0) = 0.33047621108672515\n",
            "fy(1) = 0.4079953223292903\n",
            "fy(2) = 0.20150988480897875\n",
            "fy(3) = 0.051793705332428275\n",
            "fy(4) = 0.007553248694312457\n",
            "fy(5) = 0.0006398045952829375\n",
            "fy(6) = 3.099828465518108e-05\n",
            "fy(7) = 8.144048513676475e-07\n",
            "fy(8) = 1.0411425656688674e-08\n",
            "fy(9) = 5.199213811080487e-11\n",
            "fy(10) = 5.776904234533874e-14\n"
          ],
          "name": "stdout"
        }
      ]
    },
    {
      "cell_type": "code",
      "metadata": {
        "id": "QazZZQvPf0G2",
        "colab_type": "code",
        "colab": {
          "base_uri": "https://localhost:8080/",
          "height": 34
        },
        "outputId": "cba84c71-da79-409b-abe7-adcb5048016e"
      },
      "source": [
        "# (5)\n",
        "q = 1 - p\n",
        "n*p + (n*p*q) ** .5"
      ],
      "execution_count": 50,
      "outputs": [
        {
          "output_type": "execute_result",
          "data": {
            "text/plain": [
              "1.9486832980505138"
            ]
          },
          "metadata": {
            "tags": []
          },
          "execution_count": 50
        }
      ]
    },
    {
      "cell_type": "code",
      "metadata": {
        "id": "ZAXIRfH2pm1p",
        "colab_type": "code",
        "colab": {
          "base_uri": "https://localhost:8080/",
          "height": 120
        },
        "outputId": "a2ad49af-a2a3-4a88-95e3-aabbc87feccd"
      },
      "source": [
        "# (6)\n",
        "for i in range(5, 11):\n",
        "  print(\"fz(\" + str(i) + \") = \" + str(C(i-1, 4) * (0.1 ** 5) * (0.9 ** (i-5))))"
      ],
      "execution_count": 51,
      "outputs": [
        {
          "output_type": "stream",
          "text": [
            "fz(5) = 1.0000000000000003e-05\n",
            "fz(6) = 4.500000000000001e-05\n",
            "fz(7) = 0.00012150000000000004\n",
            "fz(8) = 0.0002551500000000001\n",
            "fz(9) = 0.0004592700000000002\n",
            "fz(10) = 0.0007440174000000003\n"
          ],
          "name": "stdout"
        }
      ]
    },
    {
      "cell_type": "markdown",
      "metadata": {
        "id": "R6--bWBQqhen",
        "colab_type": "text"
      },
      "source": [
        "第二題"
      ]
    },
    {
      "cell_type": "code",
      "metadata": {
        "id": "ejSIFAcWrM5a",
        "colab_type": "code",
        "colab": {
          "base_uri": "https://localhost:8080/",
          "height": 411
        },
        "outputId": "48192db8-708b-48fd-dd16-c5df09ffe8e5"
      },
      "source": [
        "# (1) 不確定對不對\n",
        "for i in range(98, 121):\n",
        "  print(\"fz(\" + str(i) + \") = \" + str(poisson(i, 1, 100)))"
      ],
      "execution_count": 52,
      "outputs": [
        {
          "output_type": "stream",
          "text": [
            "fz(98) = 0.03946238684105566\n",
            "fz(99) = 0.039860996809147134\n",
            "fz(100) = 0.039860996809147134\n",
            "fz(101) = 0.0394663334744031\n",
            "fz(102) = 0.038692483798434416\n",
            "fz(103) = 0.037565518250907204\n",
            "fz(104) = 0.03612069062587231\n",
            "fz(105) = 0.034400657738926\n",
            "fz(106) = 0.032453450697100004\n",
            "fz(107) = 0.03033032775429907\n",
            "fz(108) = 0.02808363680953618\n",
            "fz(109) = 0.025764804412418515\n",
            "fz(110) = 0.02342254946583501\n",
            "fz(111) = 0.02110139591516668\n",
            "fz(112) = 0.018840532067113103\n",
            "fz(113) = 0.01667303722753372\n",
            "fz(114) = 0.01462547125222256\n",
            "fz(115) = 0.012717801088889185\n",
            "fz(116) = 0.010963621628352746\n",
            "fz(117) = 0.009370616776369868\n",
            "fz(118) = 0.007941200657940566\n",
            "fz(119) = 0.006673277863815602\n",
            "fz(120) = 0.005561064886513001\n"
          ],
          "name": "stdout"
        }
      ]
    },
    {
      "cell_type": "code",
      "metadata": {
        "id": "PB-595XPsJgQ",
        "colab_type": "code",
        "colab": {
          "base_uri": "https://localhost:8080/",
          "height": 34
        },
        "outputId": "b55b57df-b13a-4d90-d573-33b619927016"
      },
      "source": [
        "# (2)\n",
        "r = 1\n",
        "t = 100\n",
        "r*t + (r*t)**.5"
      ],
      "execution_count": 53,
      "outputs": [
        {
          "output_type": "execute_result",
          "data": {
            "text/plain": [
              "110.0"
            ]
          },
          "metadata": {
            "tags": []
          },
          "execution_count": 53
        }
      ]
    },
    {
      "cell_type": "markdown",
      "metadata": {
        "id": "0ejjd0zj1NCa",
        "colab_type": "text"
      },
      "source": [
        "後面的就沒了\n",
        "真的"
      ]
    }
  ]
}